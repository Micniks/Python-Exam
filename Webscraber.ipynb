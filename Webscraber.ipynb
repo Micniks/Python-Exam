{
 "cells": [
  {
   "cell_type": "markdown",
   "metadata": {},
   "source": [
    "Webscrabing:\n",
    "Make a method that takes a string, and searches https://roll20.net/compendium/dnd5e/ for that string, and returns the resulting text. Add Selenium, by using the searchbar, and selecting the right object from list."
   ]
  },
  {
   "cell_type": "code",
   "execution_count": 5,
   "metadata": {},
   "outputs": [],
   "source": [
    "import matplotlib.pyplot as plt\n",
    "import bs4\n",
    "import requests\n",
    "import urllib.request\n",
    "import re\n",
    "from selenium import webdriver\n",
    "from selenium.webdriver.firefox.options import Options\n",
    "from selenium.webdriver.common.keys import Keys\n",
    "\n",
    "class Webscraber:\n",
    "    \n",
    "    def webcrawling_using_selenium_soup(search_param):\n",
    "        url = 'https://roll20.net/compendium/dnd5e/BookIndex/'\n",
    "        errMsg = \"\"\n",
    "        text = \"\"\n",
    "        print(\"Starting up...\")\n",
    "\n",
    "        #Setting up the driver & getting the url \n",
    "        try:        \n",
    "            profile = webdriver.FirefoxProfile()\n",
    "            profile.set_preference(\"general.useragent.override\", \"Mozilla/5.0 (X11; Ubuntu; Linux x86_64; rv:81.0) Gecko/20100101 Firefox/81.0\")\n",
    "            options = Options()\n",
    "            options.headless = True\n",
    "\n",
    "            browser = webdriver.Firefox(options=options)\n",
    "            browser.get(url)\n",
    "            print(\"Got Browser\")\n",
    "\n",
    "        except Exception as err:\n",
    "            print('Error related to Browser-Setup', err)\n",
    "            errMsg = 'Error related to Browser-Setup'\n",
    "\n",
    "        #Find the search-bar and send input-text (keys) 'Fireball'\n",
    "        try:\n",
    "            if (len(errMsg) <= 0):\n",
    "                search_box = browser.find_element_by_id('homesearch')\n",
    "                search_box.send_keys(search_param)\n",
    "                search_box.send_keys(Keys.RETURN)\n",
    "        except Exception as err:\n",
    "            print('Error related to search-field', err)\n",
    "            errMsg = 'Error related to search-field'\n",
    "\n",
    "        #Click the search-button     \n",
    "        try:\n",
    "            if (len(errMsg) <= 0):\n",
    "                #Click the search button\n",
    "                button = browser.find_element_by_id('homesearchbutton')\n",
    "                button.click()\n",
    "                browser.implicitly_wait(5)\n",
    "        except Exception as err:\n",
    "            print('Error related to button-click', err)\n",
    "            errMsg = 'Error related to button-click'\n",
    "\n",
    "        # find the folder we want to extract data from and click to enter it  \n",
    "        try:\n",
    "            if (len(errMsg) <= 0):\n",
    "                folder = browser.find_element_by_link_text(search_param)\n",
    "                folder.click()\n",
    "                browser.implicitly_wait(5)\n",
    "        except Exception as err:\n",
    "            print('Error related to folder-search', err)\n",
    "            errMsg = 'Error related to folder-search'\n",
    "\n",
    "        # Find and specify the data we want to extract.. print it\n",
    "        try:\n",
    "            if (len(errMsg) <= 0):\n",
    "                #Extract data\n",
    "                soup = bs4.BeautifulSoup(browser.page_source, 'html.parser')\n",
    "                extract_data = soup.find(\"div\", {\"id\": \"pagecontent\"})\n",
    "                text = extract_data.getText()\n",
    "     \n",
    "        except Exception as err:\n",
    "            print('Error related to extracting-data', err) \n",
    "        print(text)\n",
    "        return text"
   ]
  },
  {
   "cell_type": "code",
   "execution_count": 4,
   "metadata": {},
   "outputs": [
    {
     "name": "stdout",
     "output_type": "stream",
     "text": [
      "Starting up...\n",
      "Got Browser\n",
      "\n",
      "\t\t\t\t\tA bright streak flashes from your pointing finger to a point you choose within range then blossoms with a low roar into an explosion of flame. Each creature in a 20-foot radius Sphere centered on that point must make a Dexterity saving throw. A target takes 8d6 fire damage on a failed save, or half as much damage on a successful one.The fire spreads around corners. It ignites flammable Objects in the area that aren't being worn or carried.At Higher Levels: When you cast this spell using a spell slot of 4th Level or higher, the damage increases by 1d6 for each slot level above 3rd.\n",
      "\t\t\t\t\n"
     ]
    }
   ],
   "source": [
    "aqw = Webscraber.webcrawling_using_selenium_soup('Fireball')"
   ]
  },
  {
   "cell_type": "code",
   "execution_count": null,
   "metadata": {},
   "outputs": [],
   "source": []
  }
 ],
 "metadata": {
  "kernelspec": {
   "display_name": "Python 3",
   "language": "python",
   "name": "python3"
  },
  "language_info": {
   "codemirror_mode": {
    "name": "ipython",
    "version": 3
   },
   "file_extension": ".py",
   "mimetype": "text/x-python",
   "name": "python",
   "nbconvert_exporter": "python",
   "pygments_lexer": "ipython3",
   "version": "3.7.6"
  }
 },
 "nbformat": 4,
 "nbformat_minor": 4
}
