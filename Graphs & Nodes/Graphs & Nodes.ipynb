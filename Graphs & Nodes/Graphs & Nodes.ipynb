{
 "cells": [
  {
   "cell_type": "markdown",
   "metadata": {},
   "source": [
    "Graphs & Nodes:\n",
    "Show synergy between either feats, classes, or other, where the node-size is relative to the amount of the class, and the edges\n",
    "thickness relative to the amount that have both instances."
   ]
  },
  {
   "cell_type": "code",
   "execution_count": 45,
   "metadata": {},
   "outputs": [
    {
     "name": "stdout",
     "output_type": "stream",
     "text": [
      "['Warlock', 'Warlock', 'Warlock', '1', '4', '7', 'Warlock', '8', '8', '8', '8', '8', '8', '8', '8', 'Fighter', 'Wizard', '1', '2018-07-07T05:21:32Z']\n"
     ]
    }
   ],
   "source": [
    "import gzip\n",
    "import networkx as nx\n",
    "import pandas as pd\n",
    "\n",
    "#url = \"https://raw.githubusercontent.com/oganm/dndstats/master/docs/charTable.tsv\"\n",
    "\n",
    "def get_justClass_from(file):\n",
    "    with open(file, 'r') as tsv_object:\n",
    "        return [x.split()[6] for x in tsv_object]\n",
    "\n",
    "justClasses = get_justClass_from('../charTable.tsv')\n",
    "print(justClasses[1:20])\n",
    "\n",
    "\n",
    "DnDChars = '../charTable.tsv'\n",
    "\n",
    "tsv_read = pd.read_csv(DnDChars, sep='\\t')\n",
    "print(tsv_read.head(5))\n",
    "    \n",
    "    \n",
    "   \n",
    "#g = nx.read_edgelist(\"../charTable.tsv\")\n",
    "#print(nx.info(g))"
   ]
  }
 ],
 "metadata": {
  "kernelspec": {
   "display_name": "Python 3",
   "language": "python",
   "name": "python3"
  },
  "language_info": {
   "codemirror_mode": {
    "name": "ipython",
    "version": 3
   },
   "file_extension": ".py",
   "mimetype": "text/x-python",
   "name": "python",
   "nbconvert_exporter": "python",
   "pygments_lexer": "ipython3",
   "version": "3.7.6"
  }
 },
 "nbformat": 4,
 "nbformat_minor": 4
}
