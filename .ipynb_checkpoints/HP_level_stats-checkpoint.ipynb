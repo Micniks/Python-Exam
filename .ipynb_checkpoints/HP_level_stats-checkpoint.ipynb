{
 "cells": [
  {
   "cell_type": "code",
   "execution_count": 14,
   "metadata": {},
   "outputs": [
    {
     "name": "stdout",
     "output_type": "stream",
     "text": [
      "(1347, 28)\n",
      "(1180, 27)\n"
     ]
    },
    {
     "data": {
      "image/png": "[encoded data removed]",
      "text/plain": [
       "<Figure size 432x288 with 1 Axes>"
      ]
     },
     "metadata": {
      "needs_background": "light"
     },
     "output_type": "display_data"
    },
    {
     "name": "stdout",
     "output_type": "stream",
     "text": [
      "Help on function HP_and_level_correlation_scatter in module __main__:\n",
      "\n",
      "HP_and_level_correlation_scatter()\n",
      "    Performs a scatter diagram solely focusing on the relationship between column HP(hitpoints) and \n",
      "    column level, in order to see whether there is any visual correlation\n",
      "\n"
     ]
    }
   ],
   "source": [
    "import pandas as pd\n",
    "import numpy as np\n",
    "import matplotlib.pyplot as plt\n",
    "\n",
    "\n",
    "def preparing_data():\n",
    "    \"\"\"Sorting the data by:\n",
    "        -Getting rid of biased rows \n",
    "        -Removing the 'date' column as it isn't possible to remove duplicates else\n",
    "        -Removing duplicates\n",
    "        -This method is going to be used as a helpermethod as we are going to use this data several times\n",
    "        \n",
    "        :return: Data consisting of a dataframe with information about dnd-stats\n",
    "    \"\"\"\n",
    "    \n",
    "    data = pd.read_csv('https://raw.githubusercontent.com/oganm/dndstats/master/docs/charTable.tsv', sep='\\t')\n",
    "    print(data.shape)\n",
    "    #print('dataShape before preparation: ', data.shape)\n",
    "\n",
    "    #dropping the date column\n",
    "    data = data.drop(columns=['date'])\n",
    "\n",
    "    #removing dublicates\n",
    "    data.drop_duplicates(subset =None, keep = 'first', inplace = True)\n",
    "\n",
    "    #removing a potentially biased row (level/hp corresponding to 89/1149)...\n",
    "    data = data[data.level != 89]\n",
    "    print(data.shape)\n",
    "    #print('dataShape ready: ', data.shape)\n",
    "    return data\n",
    " \n",
    "\n",
    "def HP_and_level_correlation_scatter():\n",
    "    \n",
    "    \"\"\"Performs a scatter diagram solely focusing on the relationship between column HP(hitpoints) and \n",
    "    column level, in order to see whether there is any visual correlation\n",
    "    \"\"\"\n",
    "    data = preparing_data()\n",
    "    \n",
    "    # extracting data from column HP and level\n",
    "    extract_data = pd.DataFrame(data, columns= ['HP','level'])\n",
    " \n",
    "    # making a list of HP's and level's\n",
    "    hp_list = []\n",
    "    level_list = []\n",
    "    for i, r in extract_data.iterrows():\n",
    "        level_list.append((r['level']))\n",
    "        hp_list.append((r['HP']))\n",
    "\n",
    "    # getting min/max values for column HP and level\n",
    "    minHP = min(hp_list)\n",
    "    maxHP = max(hp_list)\n",
    "\n",
    "    minL = min(level_list)\n",
    "    maxL = max(level_list)\n",
    "\n",
    "    # making a scatter diagram in order to check for visible correlation \n",
    "    data.plot.scatter(x = 6,y = 8)\n",
    "    plt.plot([minL, maxL], [minHP, maxHP])\n",
    "    plt.show()\n",
    "\n",
    "\n",
    "HP_and_level_correlation_scatter()\n",
    "help(HP_and_level_correlation_scatter)\n",
    "\n"
   ]
  },
  {
   "cell_type": "code",
   "execution_count": 1,
   "metadata": {},
   "outputs": [
    {
     "ename": "NameError",
     "evalue": "name 'preparing_data' is not defined",
     "output_type": "error",
     "traceback": [
      "\u001b[0;31m---------------------------------------------------------------------------\u001b[0m",
      "\u001b[0;31mNameError\u001b[0m                                 Traceback (most recent call last)",
      "\u001b[0;32m<ipython-input-1-4a924a057236>\u001b[0m in \u001b[0;36m<module>\u001b[0;34m\u001b[0m\n\u001b[1;32m     33\u001b[0m     \u001b[0mdata_race_count\u001b[0m\u001b[0;34m.\u001b[0m\u001b[0mgroupby\u001b[0m\u001b[0;34m(\u001b[0m\u001b[0;34m'race'\u001b[0m\u001b[0;34m)\u001b[0m\u001b[0;34m.\u001b[0m\u001b[0mmean\u001b[0m\u001b[0;34m(\u001b[0m\u001b[0;34m)\u001b[0m\u001b[0;34m.\u001b[0m\u001b[0mplot\u001b[0m\u001b[0;34m(\u001b[0m\u001b[0mkind\u001b[0m\u001b[0;34m=\u001b[0m\u001b[0;34m'bar'\u001b[0m\u001b[0;34m,\u001b[0m \u001b[0mfigsize\u001b[0m\u001b[0;34m=\u001b[0m\u001b[0;34m(\u001b[0m\u001b[0;36m20\u001b[0m\u001b[0;34m,\u001b[0m\u001b[0;36m12\u001b[0m\u001b[0;34m)\u001b[0m\u001b[0;34m)\u001b[0m\u001b[0;34m\u001b[0m\u001b[0;34m\u001b[0m\u001b[0m\n\u001b[1;32m     34\u001b[0m \u001b[0;34m\u001b[0m\u001b[0m\n\u001b[0;32m---> 35\u001b[0;31m \u001b[0mbar_chart_for_HP_and_level_ratio\u001b[0m\u001b[0;34m(\u001b[0m\u001b[0;34m)\u001b[0m\u001b[0;34m\u001b[0m\u001b[0;34m\u001b[0m\u001b[0m\n\u001b[0m\u001b[1;32m     36\u001b[0m \u001b[0mhelp\u001b[0m\u001b[0;34m(\u001b[0m\u001b[0mbar_chart_for_HP_and_level_ratio\u001b[0m\u001b[0;34m)\u001b[0m\u001b[0;34m\u001b[0m\u001b[0;34m\u001b[0m\u001b[0m\n",
      "\u001b[0;32m<ipython-input-1-4a924a057236>\u001b[0m in \u001b[0;36mbar_chart_for_HP_and_level_ratio\u001b[0;34m()\u001b[0m\n\u001b[1;32m     10\u001b[0m \u001b[0;34m\u001b[0m\u001b[0m\n\u001b[1;32m     11\u001b[0m     \"\"\"\n\u001b[0;32m---> 12\u001b[0;31m     \u001b[0mdata\u001b[0m \u001b[0;34m=\u001b[0m \u001b[0mpreparing_data\u001b[0m\u001b[0;34m(\u001b[0m\u001b[0;34m)\u001b[0m\u001b[0;34m\u001b[0m\u001b[0;34m\u001b[0m\u001b[0m\n\u001b[0m\u001b[1;32m     13\u001b[0m \u001b[0;34m\u001b[0m\u001b[0m\n\u001b[1;32m     14\u001b[0m     \u001b[0;31m# only keeping 3 columns (race,HP and level)\u001b[0m\u001b[0;34m\u001b[0m\u001b[0;34m\u001b[0m\u001b[0;34m\u001b[0m\u001b[0m\n",
      "\u001b[0;31mNameError\u001b[0m: name 'preparing_data' is not defined"
     ]
    }
   ],
   "source": [
    "# preparing for HP/level ratio analysis\n",
    "\n",
    "def bar_chart_for_HP_and_level_ratio(): \n",
    "    \"\"\"Performs general statistics only focusing on the columns race, HP and level. \n",
    "    The data is grouped by race with focus on HP and level stats for each of the races. \n",
    "    A count column has been added that counts total occurences based on race. We have set the limit count to 10 in order to \n",
    "    get rid of potentially biased data. \n",
    "    We have visualized the data by getting the agg values [count,min,max,mean] for the data and also by plotting the data so \n",
    "    we can get an overview over how the different races are represented with respect to their count.\n",
    "    \n",
    "    \"\"\"\n",
    "    data = preparing_data()\n",
    "\n",
    "    # only keeping 3 columns (race,HP and level)\n",
    "    data = data.drop(columns=['name','justClass','subclass','feats','AC','Str','Dex','Con','Int','Wis','Cha','alignment','skills',\n",
    "                         'weapons','spells','day','processedAlignment','good','lawful','processedRace','processedSpells',\n",
    "                         'processedWeapons','background','class'])\n",
    "    \n",
    "    #getting an overview with key values\n",
    "    data_overview = data.groupby(['race']).agg(['count','min','max','mean'])[:5]\n",
    "    print(data_overview)\n",
    "\n",
    "    #adding a count column to count total occurrences based on race\n",
    "    data['count'] = data.groupby('race')['race'].transform('count')\n",
    "    print(data.head())\n",
    "\n",
    "    #removing occurences less than 10 in order to get rid of potentially biased data\n",
    "    data = data[data['count'] >= 10]\n",
    "    \n",
    "    #plotting for visualization grouped by race-mean\n",
    "    %matplotlib inline\n",
    "    data_race_count = data.drop(columns=[\"HP\",\"level\"])\n",
    "    data_race_count.groupby('race').mean().plot(kind='bar', figsize=(20,12))\n",
    "\n",
    "bar_chart_for_HP_and_level_ratio()\n",
    "help(bar_chart_for_HP_and_level_ratio)"
   ]
  },
  {
   "cell_type": "code",
   "execution_count": 3,
   "metadata": {},
   "outputs": [
    {
     "data": {
      "text/plain": [
       "0.8389189281216363"
      ]
     },
     "execution_count": 3,
     "metadata": {},
     "output_type": "execute_result"
    }
   ],
   "source": [
    "import sklearn\n",
    "import sklearn.linear_model\n",
    "import numpy as np\n",
    "\n",
    "\n",
    "def model_prediction_for_HP(level_input):\n",
    "    \"\"\"Performs prediction on new HP for given level_input. The data is modelled and fitted in order to \n",
    "    calculate the predicted value for HP  \n",
    "    \n",
    "    :param level_input: number\n",
    "        number to insert in order to calculate the predicted HP rate.\n",
    "        \n",
    "    :return: numpy.float64\n",
    "        The predicted HP value for a given level-input             \n",
    "    \"\"\"\n",
    "    \n",
    "    data = preparing_data()\n",
    "    model = sklearn.linear_model.LinearRegression()\n",
    "    \n",
    "    HP = data['HP']\n",
    "    level = data['level']\n",
    "\n",
    "    level_reshape = np.array(level).reshape(-1, 1)\n",
    "\n",
    "    model.fit(level_reshape, HP)\n",
    "\n",
    "    predicted = model.predict(level_reshape)\n",
    "    #The given level_input given as parameter is used\n",
    "    predict_HP = model.predict([[level_input]])\n",
    "    #print('predicting new HP for given level_input is: {} '.format(predict_HP[0]))\n",
    "    return predict_HP[0]\n",
    "\n",
    "    \n",
    "def model_prediction_for_level(HP_input):\n",
    "    \"\"\"Performs prediction on new level for given HP_input. The data is modelled and fitted in order to \n",
    "    calculate the predicted value for level  \n",
    "    \n",
    "    :param HP_input: number\n",
    "        number to insert in order to calculate the predicted level.\n",
    "        \n",
    "    :return: numpy.float64\n",
    "        The predicted level value for a given HP-input             \n",
    "    \"\"\"\n",
    "\n",
    "    data = preparing_data()\n",
    "    model = sklearn.linear_model.LinearRegression()\n",
    "    \n",
    "    HP = data['HP']\n",
    "    level = data['level']\n",
    "\n",
    "    HP_reshape = np.array(HP).reshape(-1, 1)\n",
    "\n",
    "    model.fit(HP_reshape, level)\n",
    "\n",
    "    predicted = model.predict(HP_reshape)\n",
    "    #The given HP_input given as parameter is used\n",
    "    predict_level = model.predict([[HP_input]])\n",
    "    #print('predicting new level for given HP_input is: {} '.format(predict_level[0]))\n",
    "    return predict_level[0]\n",
    "\n",
    "\n",
    "def model_score_for_data():\n",
    "    \"\"\"Getting the model_score for the used data.\n",
    "    \n",
    "    :return: numpy.float64\n",
    "        The calculated model score for HP and level columns\n",
    "    \"\"\"\n",
    "    data = preparing_data()\n",
    "    model = sklearn.linear_model.LinearRegression()\n",
    "    \n",
    "    HP = data['HP']\n",
    "    level = data['level']\n",
    "    \n",
    "    level_reshape = np.array(level).reshape(-1, 1)   \n",
    "    \n",
    "    model.fit(level_reshape, HP)    \n",
    "    \n",
    "    predicted = model.predict(level_reshape)\n",
    "    return model.score(level_reshape,HP)\n",
    "     \n",
    "#model_prediction_for_HP(20)\n",
    "#model_prediction_for_level(274)    \n",
    "model_score_for_data()    "
   ]
  },
  {
   "cell_type": "code",
   "execution_count": 12,
   "metadata": {},
   "outputs": [
    {
     "name": "stdout",
     "output_type": "stream",
     "text": [
      "boundary_value:  163.28\n",
      "lower/upper boundary_values:  653.13 , 979.69\n"
     ]
    },
    {
     "data": {
      "text/plain": [
       "False"
      ]
     },
     "execution_count": 12,
     "metadata": {},
     "output_type": "execute_result"
    }
   ],
   "source": [
    "def check_for_HPfitness_given_Level_input(level,hp,percentage_error):\n",
    "    \"\"\"Performs predictions on whether the parameter level and parameter HP constitutes a sound match in relation to \n",
    "    our previuosly modelled data. Here we also operate with a percentage_error value which is used to accept certain\n",
    "    degree of deviation.\n",
    "\n",
    "    :param level: number\n",
    "        number to insert in order to calculate the HP rate according to our model prediction.\n",
    "        \n",
    "    :param hp: number\n",
    "        number to insert in order to check and compare our hp value with the modelled hp value.\n",
    "\n",
    "    :param percentage_error: number\n",
    "        number to insert in order to accept a certain degree of deviation between the fitness of param hp and the \n",
    "        calculated/modelled hp value.\n",
    "    \n",
    "    :return: boolean\n",
    "        True if there is a sound match   \n",
    "    \"\"\"\n",
    "    \n",
    "    predicted_hp_given_level = round(model_prediction_for_HP(level),2)\n",
    "    \n",
    "    #finding the boundary-value\n",
    "    boundary_value = round(predicted_hp_given_level * percentage_error/100,2)\n",
    "    print(\"boundary_value: \",boundary_value)\n",
    "    \n",
    "    lower_level_boundary = round(predicted_hp_given_level - boundary_value,2)\n",
    "    upper_level_boundary = round(predicted_hp_given_level + boundary_value,2)\n",
    "    \n",
    "    print(\"lower/upper boundary_values: \",lower_level_boundary,\",\",upper_level_boundary)\n",
    "    \n",
    "    return hp >= lower_level_boundary and hp <= upper_level_boundary\n",
    "    \n",
    "check_for_HPfitness_given_Level_input(89,1149,20)\n",
    " "
   ]
  },
  {
   "cell_type": "code",
   "execution_count": null,
   "metadata": {},
   "outputs": [],
   "source": []
  }
 ],
 "metadata": {
  "kernelspec": {
   "display_name": "Python 3",
   "language": "python",
   "name": "python3"
  },
  "language_info": {
   "codemirror_mode": {
    "name": "ipython",
    "version": 3
   },
   "file_extension": ".py",
   "mimetype": "text/x-python",
   "name": "python",
   "nbconvert_exporter": "python",
   "pygments_lexer": "ipython3",
   "version": "3.7.6"
  }
 },
 "nbformat": 4,
 "nbformat_minor": 4
}
