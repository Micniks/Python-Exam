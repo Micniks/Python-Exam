{
 "cells": [
  {
   "cell_type": "code",
   "execution_count": 1,
   "metadata": {},
   "outputs": [
    {
     "name": "stdout",
     "output_type": "stream",
     "text": [
      "initiating test..\n"
     ]
    },
    {
     "name": "stderr",
     "output_type": "stream",
     "text": [
      "."
     ]
    },
    {
     "name": "stdout",
     "output_type": "stream",
     "text": [
      "initiating test..\n"
     ]
    },
    {
     "name": "stderr",
     "output_type": "stream",
     "text": [
      "."
     ]
    },
    {
     "name": "stdout",
     "output_type": "stream",
     "text": [
      "initiating test..\n"
     ]
    },
    {
     "name": "stderr",
     "output_type": "stream",
     "text": [
      "."
     ]
    },
    {
     "name": "stdout",
     "output_type": "stream",
     "text": [
      "initiating test..\n"
     ]
    },
    {
     "name": "stderr",
     "output_type": "stream",
     "text": [
      "."
     ]
    },
    {
     "name": "stdout",
     "output_type": "stream",
     "text": [
      "initiating test..\n",
      "Starting up...\n",
      "Got Browser\n",
      "\n",
      "\t\t\t\t\tA bright streak flashes from your pointing finger to a point you choose within range then blossoms with a low roar into an explosion of flame. Each creature in a 20-foot radius Sphere centered on that point must make a Dexterity saving throw. A target takes 8d6 fire damage on a failed save, or half as much damage on a successful one.The fire spreads around corners. It ignites flammable Objects in the area that aren't being worn or carried.At Higher Levels: When you cast this spell using a spell slot of 4th Level or higher, the damage increases by 1d6 for each slot level above 3rd.\n",
      "\t\t\t\t\n"
     ]
    },
    {
     "name": "stderr",
     "output_type": "stream",
     "text": [
      ".\n",
      "----------------------------------------------------------------------\n",
      "Ran 5 tests in 172.380s\n",
      "\n",
      "OK\n"
     ]
    }
   ],
   "source": [
    "import unittest\n",
    "import warnings\n",
    "import matplotlib.pyplot as plt\n",
    "import bs4\n",
    "import requests\n",
    "import urllib.request\n",
    "import re\n",
    "from selenium import webdriver\n",
    "from selenium.webdriver.firefox.options import Options\n",
    "from selenium.webdriver.common.keys import Keys\n",
    "import Webscraber as ws\n",
    "\n",
    "class DungeoansAndDragonsSearch(unittest.TestCase):\n",
    "    \n",
    "    \n",
    "    def setUp(self):\n",
    "        \n",
    "        try:\n",
    "            url = 'https://roll20.net/compendium/dnd5e/BookIndex/'\n",
    "            print('initiating test..')\n",
    "            profile = webdriver.FirefoxProfile()\n",
    "            profile.set_preference(\"general.useragent.override\", \"Mozilla/5.0 (X11; Ubuntu; Linux x86_64; rv:81.0) Gecko/20100101 Firefox/81.0\")\n",
    "            options = Options()\n",
    "            options.headless = True\n",
    "            self.browser = webdriver.Firefox(options=options)\n",
    "            self.browser.get(url)\n",
    "        except Exception as err:\n",
    "            print('Error related to Browser-Setup', err)\n",
    "\n",
    "    def test_setup_browserTitle(self):\n",
    "        warnings.filterwarnings(action=\"ignore\", message=\"unclosed\", category=ResourceWarning)\n",
    "        \n",
    "        expected_title = 'D&D 5th Edition'\n",
    "        actual_title = self.browser.title\n",
    "\n",
    "        assert expected_title == actual_title\n",
    "        \n",
    "\n",
    "    def test_setup_browserUrl(self):\n",
    "        warnings.filterwarnings(action=\"ignore\", message=\"unclosed\", category=ResourceWarning)\n",
    "        \n",
    "        expected_url = 'https://roll20.net/compendium/dnd5e/BookIndex/'\n",
    "        actual_url = self.browser.current_url\n",
    "\n",
    "        assert expected_url == actual_url\n",
    "    \n",
    "    \n",
    "    def test_searchBox_click(self):\n",
    "        warnings.filterwarnings(action=\"ignore\", message=\"unclosed\", category=ResourceWarning)\n",
    "        search_box = self.browser.find_element_by_id('homesearch')\n",
    "        search_box.send_keys('Fireball')\n",
    "        search_box.send_keys(Keys.RETURN)\n",
    "        button = self.browser.find_element_by_id('homesearchbutton')\n",
    "        button.click()\n",
    "        self.browser.implicitly_wait(5)\n",
    "\n",
    "        expected_url = 'https://roll20.net/compendium/compendium/whichone/dnd5e/Fireball'\n",
    "        expected_title = 'Roll20 Compendium'\n",
    "        \n",
    "        actual_url = self.browser.current_url\n",
    "        actual_title = self.browser.title\n",
    " \n",
    "        assert expected_url == actual_url\n",
    "        assert expected_title == actual_title\n",
    "    \n",
    "    \n",
    "    def test_searchBox_click_and_folder_click(self):\n",
    "        warnings.filterwarnings(action=\"ignore\", message=\"unclosed\", category=ResourceWarning)\n",
    "        search_box = self.browser.find_element_by_id('homesearch')\n",
    "        search_box.send_keys('Fireball')\n",
    "        search_box.send_keys(Keys.RETURN)\n",
    "        \n",
    "        button = self.browser.find_element_by_id('homesearchbutton')\n",
    "        button.click()\n",
    "        self.browser.implicitly_wait(5)\n",
    "        \n",
    "        folder = self.browser.find_element_by_link_text('Fireball')\n",
    "        folder.click()\n",
    "        self.browser.implicitly_wait(5)\n",
    "        \n",
    "        expected_url = 'https://roll20.net/compendium/dnd5e/Spells:Fireball/#h-Fireball'\n",
    "        expected_title = 'Fireball | D&D 5th Edition on Roll20 Compendium'\n",
    "        \n",
    "        actual_url = self.browser.current_url\n",
    "        actual_title = self.browser.title\n",
    "        \n",
    "        assert expected_url == actual_url\n",
    "        assert expected_title == actual_title        \n",
    "        \n",
    "    \n",
    "    def test_verify_data_endResult(self):\n",
    "        warnings.filterwarnings(action=\"ignore\", message=\"unclosed\", category=ResourceWarning)\n",
    "        part_of_expectedData = 'A bright streak flashes from your pointing finger to a point you choose within range'\n",
    "        actual_data = ws.Webscraber.webcrawling_using_selenium_soup('Fireball')\n",
    "        \n",
    "        self.assertIn(part_of_expectedData,actual_data)\n",
    "        \n",
    "\n",
    "    def tearDown(self):\n",
    "        self.browser.close()\n",
    "\n",
    "        \n",
    "if __name__ == \"__main__\":\n",
    "    unittest.main(argv=['first-arg-is-ignored'], exit=False)\n",
    "    \n",
    "    "
   ]
  },
  {
   "cell_type": "code",
   "execution_count": null,
   "metadata": {},
   "outputs": [],
   "source": []
  }
 ],
 "metadata": {
  "kernelspec": {
   "display_name": "Python 3",
   "language": "python",
   "name": "python3"
  },
  "language_info": {
   "codemirror_mode": {
    "name": "ipython",
    "version": 3
   },
   "file_extension": ".py",
   "mimetype": "text/x-python",
   "name": "python",
   "nbconvert_exporter": "python",
   "pygments_lexer": "ipython3",
   "version": "3.7.6"
  }
 },
 "nbformat": 4,
 "nbformat_minor": 4
}
