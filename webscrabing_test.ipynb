{
 "cells": [
  {
   "cell_type": "markdown",
   "metadata": {},
   "source": [
    "Webscrabing:\n",
    "Make a method that takes a string, and searches https://roll20.net/compendium/dnd5e/ for that string, and returns the resulting text. Add Selenium, by using the searchbar, and selecting the right object from list."
   ]
  },
  {
   "cell_type": "code",
   "execution_count": 57,
   "metadata": {},
   "outputs": [
    {
     "name": "stdout",
     "output_type": "stream",
     "text": [
      "Starting up...\n",
      "Got Browser\n",
      "\n",
      "['\\n\\n\\t\\t\\t\\tRoll20 Help Center\\n\\t\\t\\t\\n', '\\n\\n\\t\\t\\t\\t[YouTube] Roll20 Mobile Teaser Trailer\\n\\t\\t\\t\\n', \"\\n\\n\\t\\t\\t\\tBlack Lives Matter: Roll20's Quarterly Update\\n\\t\\t\\t\\n\", '\\n\\n\\t\\t\\t\\t[YouTube] Dynamic Lighting Showcase | Roll20Con\\n\\t\\t\\t\\n', 'Type to search for a spell, item, class — anything!', 'We found more than one entry for that page. Choose which one you want from the list below.', '\\n\\nDelayed Blast Fireball\\n\\n(Spells)\\n', '\\n\\nNecklace of Fireballs\\n\\n(Items)\\n', '\\n\\nWand of Fireballs\\n\\n(Items)\\n', '\\n\\nFireball\\n\\n(Spells)\\n', '© The Orr Group, LLC · Acknowledgements · Terms of Service & Privacy Policy · DMCA · Cookies · Support · Contact Us · On Social Media:\\n\\t\\t\\t\\t\\t\\n\\n\\n\\n\\n', 'Roll20® is a Registered Trademark of The Orr Group, LLC. All rights reserved.\\n\\n\\t\\t\\t\\t\\n\\t\\t\\t\\t']\n"
     ]
    }
   ],
   "source": [
    "import matplotlib.pyplot as plt\n",
    "import bs4\n",
    "import requests\n",
    "import urllib.request\n",
    "import re\n",
    "from selenium import webdriver\n",
    "from selenium.webdriver.firefox.options import Options\n",
    " \n",
    "base_url = 'https://roll20.net/compendium/compendium/whichone/dnd5e/fireball'\n",
    "\n",
    "print(\"Starting up...\")\n",
    "        \n",
    "profile = webdriver.FirefoxProfile()\n",
    "profile.set_preference(\"general.useragent.override\", \"Mozilla/5.0 (X11; Ubuntu; Linux x86_64; rv:81.0) Gecko/20100101 Firefox/81.0\")\n",
    "\n",
    "options = Options()\n",
    "options.headless = True\n",
    "        \n",
    "browser = webdriver.Firefox(options=options)\n",
    "        \n",
    "browser.get(base_url)\n",
    "print(\"Got Browser\")\n",
    "print()\n",
    "        \n",
    "browser.implicitly_wait(3)\n",
    "\n",
    "fireball_info = browser.find_elements_by_link_text('Fireball')[0]\n",
    "fireball_info.click()\n",
    "\n",
    "browser.implicitly_wait(3)\n",
    "\n",
    "\n",
    "\n",
    "page_source = browser.page_source\n",
    "page_soup = soup(page_source, 'html.parser')\n",
    "\n",
    "list_of_headlines = []\n",
    "\n",
    "#headlines = soup.find(\"div\", {\"id\": \"pagecontent\"})\n",
    "#print(headlines)\n",
    "headlines = soup.findAll('p')\n",
    "for headline in headlines:\n",
    "    list_of_headlines.append(headline.getText())\n",
    "    \n",
    "print(list_of_headlines)\n",
    "\n",
    "\n",
    "#para_text = browser.find_elements_by_id('pagecontent')\n",
    "\n",
    "\n",
    "\n",
    "\n",
    "\n",
    "\n",
    "\n",
    "#browser.get(base_url)\n",
    "#browser.implicitly_wait(5)\n",
    "\n",
    "\n",
    "#url = 'https://roll20.net/compendium/compendium/whichone/dnd5e/fireball'\n",
    "#r_url = requests.get(url)\n",
    "#r_url.raise_for_status()\n",
    "#soup = bs4.BeautifulSoup(r_url.text, 'html.parser')\n",
    "#list_of_headlines = []\n",
    "#headlines = soup.findAll('p')\n",
    "#for headline in headlines:\n",
    "#    list_of_headlines.append(headline.getText())\n",
    "    \n",
    "#print(list_of_headlines)\n"
   ]
  },
  {
   "cell_type": "code",
   "execution_count": null,
   "metadata": {},
   "outputs": [],
   "source": []
  }
 ],
 "metadata": {
  "kernelspec": {
   "display_name": "Python 3",
   "language": "python",
   "name": "python3"
  },
  "language_info": {
   "codemirror_mode": {
    "name": "ipython",
    "version": 3
   },
   "file_extension": ".py",
   "mimetype": "text/x-python",
   "name": "python",
   "nbconvert_exporter": "python",
   "pygments_lexer": "ipython3",
   "version": "3.7.6"
  }
 },
 "nbformat": 4,
 "nbformat_minor": 4
}
